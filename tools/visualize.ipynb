{
 "cells": [
  {
   "cell_type": "code",
   "execution_count": null,
   "metadata": {},
   "outputs": [],
   "source": [
    "import yt ; yt.funcs.mylog.setLevel(50)\n",
    "import matplotlib.pyplot as plt\n",
    "import numpy as np\n",
    "from yt.frontends.boxlib.data_structures import AMReXDataset"
   ]
  },
  {
   "cell_type": "code",
   "execution_count": null,
   "metadata": {},
   "outputs": [],
   "source": [
    "# Load data with yt\n",
    "ds = AMReXDataset('plt00020')\n",
    "ad = ds.all_data()"
   ]
  },
  {
   "cell_type": "code",
   "execution_count": null,
   "metadata": {},
   "outputs": [],
   "source": [
    "# Directly plot the result with yt\n",
    "sl = yt.SlicePlot(ds, 1, 'Ez', aspect=1)\n",
    "sl.annotate_particles(width=(1., 'm'), p_size=2, ptype='beam', col='black')"
   ]
  },
  {
   "cell_type": "code",
   "execution_count": null,
   "metadata": {},
   "outputs": [],
   "source": [
    "# Get field data into a numpy array\n",
    "Ez = ad['Ez'].reshape(ds.domain_dimensions).squeeze()"
   ]
  },
  {
   "cell_type": "code",
   "execution_count": null,
   "metadata": {},
   "outputs": [],
   "source": [
    "# Get particle data into numpy arrays\n",
    "xp = ad['beam', 'particle_position_x'].v\n",
    "zp = ad['beam', 'particle_position_z'].v\n",
    "uzp = ad['beam', 'particle_uz'].v\n",
    "wp = ad['beam', 'particle_w'].v"
   ]
  },
  {
   "cell_type": "code",
   "execution_count": null,
   "metadata": {},
   "outputs": [],
   "source": [
    "extent = [ds.domain_left_edge[2], ds.domain_right_edge[2],\n",
    "          ds.domain_left_edge[0], ds.domain_right_edge[0] ]\n",
    "plt.figure()\n",
    "plt.imshow(Ez[:,Ez.shape[1]//2,:], extent=extent)\n",
    "plt.plot(zp, xp, '.')"
   ]
  },
  {
   "cell_type": "code",
   "execution_count": null,
   "metadata": {},
   "outputs": [],
   "source": []
  }
 ],
 "metadata": {
  "kernelspec": {
   "display_name": "Python 3",
   "language": "python",
   "name": "python3"
  },
  "language_info": {
   "codemirror_mode": {
    "name": "ipython",
    "version": 3
   },
   "file_extension": ".py",
   "mimetype": "text/x-python",
   "name": "python",
   "nbconvert_exporter": "python",
   "pygments_lexer": "ipython3",
   "version": "3.8.5"
  }
 },
 "nbformat": 4,
 "nbformat_minor": 4
}
